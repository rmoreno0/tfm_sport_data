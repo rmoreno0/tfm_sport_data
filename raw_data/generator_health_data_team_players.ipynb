{
 "cells": [
  {
   "cell_type": "code",
   "execution_count": null,
   "metadata": {},
   "outputs": [],
   "source": [
    "import pandas as pd\n",
    "import numpy as np \n",
    "import random\n",
    "import json\n",
    "import time\n",
    "import math\n",
    "\n",
    "from datetime import datetime"
   ]
  },
  {
   "cell_type": "code",
   "execution_count": null,
   "metadata": {},
   "outputs": [],
   "source": [
    "## Función para generar y almacenar en fichero los datos de salud\n",
    "## Genera datos para una temporada completa de todos los jugadores\n",
    "def generateDataHealth(idPlayer):\n",
    "\n",
    "    file = open(str(idPlayer) + '_health.txt', \"w\")\n",
    "    \n",
    "    for jornada in range(1, 39):\n",
    "        for minuto in range(1, 91):\n",
    "            player = {}\n",
    "            player['id'] = str(idPlayer) + '_HEALTH'\n",
    "            player['jornada'] = jornada\n",
    "            player['minuto'] = minuto\n",
    "            player['pulso'] = np.random.randint(55, 201)\n",
    "            player['dateCreated'] = datetime.now().isoformat()\n",
    "            file.write(json.dumps(player))\n",
    "            file.write(\"\\n\")\n",
    "\n",
    "            player = {}\n",
    "            player['id'] = str(idPlayer) + '_HEALTH'\n",
    "            player['jornada'] = jornada\n",
    "            player['minuto'] = minuto\n",
    "            player['SpO2'] = np.random.randint(90, 101)\n",
    "            player['dateCreated'] = datetime.now().isoformat()\n",
    "            file.write(json.dumps(player))\n",
    "            file.write(\"\\n\")\n",
    "            \n",
    "            player = {}\n",
    "            player['id'] = str(idPlayer) + '_HEALTH'\n",
    "            player['jornada'] = jornada\n",
    "            player['minuto'] = minuto\n",
    "            player['mmHg'] = {}\n",
    "            player['mmHg']['mmHg_H'] = np.random.randint(108, 141)\n",
    "            player['mmHg']['mmHg_L'] = int(player['mmHg']['mmHg_H']/2.0) + 10\n",
    "            player['dateCreated'] = datetime.now().isoformat()\n",
    "            file.write(json.dumps(player))\n",
    "            file.write(\"\\n\")\n",
    "            \n",
    "    file.close()"
   ]
  },
  {
   "cell_type": "code",
   "execution_count": null,
   "metadata": {},
   "outputs": [],
   "source": [
    "## Para cada jugador, creamos sus datos de salud de una temporada completa y la escribimos en fichero\n",
    "idPlayersTeam = ['TC01', 'DC02', 'EM03', 'SR04', 'RV05', 'TK08', 'LM10', 'CC14', 'KB09', 'EH07', 'VJ20']\n",
    "[generateDataHealth(idPlayer) for idPlayer in idPlayersTeam]\n",
    "print('Done!')"
   ]
  }
 ],
 "metadata": {
  "kernelspec": {
   "display_name": "Python 3",
   "language": "python",
   "name": "python3"
  },
  "language_info": {
   "codemirror_mode": {
    "name": "ipython",
    "version": 3
   },
   "file_extension": ".py",
   "mimetype": "text/x-python",
   "name": "python",
   "nbconvert_exporter": "python",
   "pygments_lexer": "ipython3",
   "version": "3.7.3"
  }
 },
 "nbformat": 4,
 "nbformat_minor": 2
}
