{
 "cells": [
  {
   "cell_type": "code",
   "execution_count": null,
   "metadata": {},
   "outputs": [],
   "source": [
    "import pandas as pd\n",
    "import numpy as np \n",
    "import random\n",
    "import json\n",
    "import time\n",
    "\n",
    "from datetime import datetime"
   ]
  },
  {
   "cell_type": "code",
   "execution_count": null,
   "metadata": {},
   "outputs": [],
   "source": [
    "## Función para generar datos de salud para una temporada completa de todos los jugadores\n",
    "def generateDataHealth(idPlayer):\n",
    "    \n",
    "    playersDataHealth = []\n",
    "    \n",
    "    for jornada in range(1, 39):\n",
    "        for minuto in range(1, 91):\n",
    "            player = {}\n",
    "            player['id'] = str(idPlayer) + '_HEALTH'\n",
    "            player['jornada'] = jornada\n",
    "            player['minuto'] = minuto\n",
    "            player['pulso'] = np.random.randint(55, 201)\n",
    "            player['SpO2'] = np.random.randint(90, 101)\n",
    "            player['mmHg_H'] = np.random.randint(108, 141)\n",
    "            player['mmHg_L'] = int(player['mmHg_H']/2.0) + 10\n",
    "            player['dateCreated'] = datetime.now().isoformat()\n",
    "            playersDataHealth.append(player)\n",
    "    \n",
    "    return playersDataHealth"
   ]
  },
  {
   "cell_type": "code",
   "execution_count": null,
   "metadata": {},
   "outputs": [],
   "source": [
    "## Para cada jugador, creamos sus datos de salud de una temporada completa y lo escribimos en fichero\n",
    "idPlayersTeam = ['TC01', 'DC02', 'EM03', 'SR04', 'RV05', 'TK08', 'LM10', 'CC14', 'KB09', 'EH07', 'VJ20']\n",
    "\n",
    "for idPlayer in idPlayersTeam:\n",
    "    dfPlayerHealth = pd.DataFrame(generateDataHealth(idPlayer))\n",
    "    dfPlayerHealth.to_json(str(idPlayer) + '_health.json',orient='records')\n",
    "    \n",
    "print('Done!')"
   ]
  }
 ],
 "metadata": {
  "kernelspec": {
   "display_name": "Python 3",
   "language": "python",
   "name": "python3"
  },
  "language_info": {
   "codemirror_mode": {
    "name": "ipython",
    "version": 3
   },
   "file_extension": ".py",
   "mimetype": "text/x-python",
   "name": "python",
   "nbconvert_exporter": "python",
   "pygments_lexer": "ipython3",
   "version": "3.7.3"
  }
 },
 "nbformat": 4,
 "nbformat_minor": 2
}
