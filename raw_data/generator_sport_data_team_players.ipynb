{
 "cells": [
  {
   "cell_type": "code",
   "execution_count": null,
   "metadata": {},
   "outputs": [],
   "source": [
    "import pandas as pd\n",
    "import numpy as np \n",
    "import random\n",
    "import json\n",
    "import time\n",
    "import math\n",
    "\n",
    "from datetime import datetime"
   ]
  },
  {
   "cell_type": "code",
   "execution_count": null,
   "metadata": {},
   "outputs": [],
   "source": [
    "## Función para generar y almacenar en fichero los datos deportivos\n",
    "## Genera datos para una temporada completa de todos los jugadores\n",
    "def generateDataSport(idPlayer, positionPlayer):\n",
    "\n",
    "    file = open(str(idPlayer) + '_sport.txt', \"w\")\n",
    "    \n",
    "    for jornada in range(1, 39):\n",
    "        player = {}\n",
    "        player['id'] = str(idPlayer) + '_SPORT'\n",
    "        player['jornada'] = jornada\n",
    "        player['dateCreated'] = datetime.now().isoformat()\n",
    "        if random.random() >= 0.7:\n",
    "            player['Yellow_card'] = np.random.randint(0, 3)\n",
    "        else:\n",
    "            player['Yellow_card'] = 0\n",
    "            \n",
    "        if(player['Yellow_card'] == 2):\n",
    "            player['Red_card'] = 1\n",
    "        else:\n",
    "            if random.random() <= 0.9:\n",
    "                player['Red_card'] = 0\n",
    "            else:\n",
    "                player['Red_card'] = 1\n",
    "\n",
    "        if(positionPlayer == 'Portero'):\n",
    "            player['Goals'] = 0\n",
    "            player['Goalkeeper'] = np.random.randint(0, 16)\n",
    "            player['Pass_total'] = np.random.randint(5, 16)\n",
    "            player['Pass_success'] = np.random.randint(1, player['Pass_total']+1)\n",
    "            player['Shoot_total'] = 0\n",
    "            player['Shoot_success'] = 0\n",
    "\n",
    "        elif(positionPlayer == 'Defensa'):\n",
    "            player['Goals']  = np.random.randint(0, 2)\n",
    "            player['Goalkeeper'] = 0\n",
    "            player['Pass_total'] = np.random.randint(20, 51)\n",
    "            player['Pass_success'] = np.random.randint(15, player['Pass_total']+1)\n",
    "            player['Shoot_total'] = np.random.randint(1, 4)\n",
    "            player['Shoot_success'] = np.random.randint(1, player['Shoot_total']+1)\n",
    "\n",
    "        elif(positionPlayer == 'Mediocentro'):\n",
    "            player['Goals']  = np.random.randint(0, 3)\n",
    "            player['Goalkeeper'] = 0\n",
    "            player['Pass_total'] = np.random.randint(30, 91)\n",
    "            player['Pass_success'] = np.random.randint(25, player['Pass_total']+1)\n",
    "            player['Shoot_total'] = np.random.randint(2, 6)\n",
    "            player['Shoot_success'] = np.random.randint(2, player['Shoot_total']+1)\n",
    "\n",
    "        elif(positionPlayer == 'Delantero'):\n",
    "            player['Goals']  = np.random.randint(0, 3)\n",
    "            player['Goalkeeper'] = 0\n",
    "            player['Pass_total'] = np.random.randint(15, 31)\n",
    "            player['Pass_success'] = np.random.randint(10, player['Pass_total']+1)\n",
    "            player['Shoot_total'] = np.random.randint(2, 11)\n",
    "            player['Shoot_success'] = np.random.randint(2, player['Shoot_total']+1)\n",
    "\n",
    "        file.write(json.dumps(player))\n",
    "        file.write(\"\\n\")\n",
    "            \n",
    "    file.close()"
   ]
  },
  {
   "cell_type": "code",
   "execution_count": null,
   "metadata": {},
   "outputs": [],
   "source": [
    "## Para cada jugador, creamos sus datos deportivos de una temporada completa y la escribimos en fichero\n",
    "playersTeam = [['TC01', 'Portero'], ['DC02', 'Defensa'], ['EM03', 'Defensa'], ['SR04', 'Defensa'], \n",
    "                ['RV05', 'Defensa'], ['TK08', 'Mediocentro'], ['LM10', 'Mediocentro'], ['CC14', 'Mediocentro'], \n",
    "                ['KB09', 'Delantero'], ['EH07', 'Delantero'], ['VJ20', 'Delantero']]\n",
    "[generateDataSport(idPlayer, positionPlayer) for idPlayer, positionPlayer in playersTeam]\n",
    "print('Done!')"
   ]
  }
 ],
 "metadata": {
  "kernelspec": {
   "display_name": "Python 3",
   "language": "python",
   "name": "python3"
  },
  "language_info": {
   "codemirror_mode": {
    "name": "ipython",
    "version": 3
   },
   "file_extension": ".py",
   "mimetype": "text/x-python",
   "name": "python",
   "nbconvert_exporter": "python",
   "pygments_lexer": "ipython3",
   "version": "3.7.3"
  }
 },
 "nbformat": 4,
 "nbformat_minor": 2
}
